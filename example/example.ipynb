{
 "cells": [
  {
   "cell_type": "code",
   "execution_count": null,
   "metadata": {},
   "outputs": [],
   "source": [
    "from civitai_downloader.download.download import civitai_download, url_download\n",
    "from civitai_downloader.token.token import get_token, prompt_for_civitai_token\n",
    "\n",
    "token=get_token()\n",
    "\n",
    "if token is None:\n",
    "        token = prompt_for_civitai_token()"
   ]
  },
  {
   "cell_type": "code",
   "execution_count": null,
   "metadata": {},
   "outputs": [],
   "source": [
    "model_id=215522\n",
    "path=\".\"\n",
    "\n",
    "civitai_download(model_id=model_id, local_dir=path, token=token)"
   ]
  },
  {
   "cell_type": "code",
   "execution_count": null,
   "metadata": {},
   "outputs": [],
   "source": [
    "from urllib.parse import urljoin\n",
    "\n",
    "url=urljoin(\"https://civitai.com/api/download/models/\", str(model_id))\n",
    "\n",
    "url_download(url=url, local_dir=path, token=token)"
   ]
  }
 ],
 "metadata": {
  "kernelspec": {
   "display_name": "Python 3",
   "language": "python",
   "name": "python3"
  },
  "language_info": {
   "codemirror_mode": {
    "name": "ipython",
    "version": 3
   },
   "file_extension": ".py",
   "mimetype": "text/x-python",
   "name": "python",
   "nbconvert_exporter": "python",
   "pygments_lexer": "ipython3",
   "version": "3.12.7"
  }
 },
 "nbformat": 4,
 "nbformat_minor": 2
}
