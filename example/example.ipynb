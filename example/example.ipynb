{
 "cells": [
  {
   "cell_type": "code",
   "execution_count": null,
   "metadata": {},
   "outputs": [],
   "source": [
    "from civitai_downloader.download.download import civitai_download\n",
    "from civitai_downloader.token.token import get_token, prompt_for_civitai_token\n",
    "\n",
    "token=get_token()\n",
    "\n",
    "if token is None:\n",
    "    token = prompt_for_civitai_token()\n",
    "\n",
    "model_id=215522\n",
    "path=\".\"\n",
    "\n",
    "civitai_download(model_id=model_id, local_dir=path, token=token)"
   ]
  },
  {
   "cell_type": "code",
   "execution_count": null,
   "metadata": {},
   "outputs": [],
   "source": [
    "from civitai_downloader.download.download import url_download\n",
    "from civitai_downloader.token.token import get_token, prompt_for_civitai_token\n",
    "from urllib.parse import urljoin\n",
    "\n",
    "token=get_token()\n",
    "\n",
    "if token is None:\n",
    "    token = prompt_for_civitai_token()\n",
    "\n",
    "url=urljoin(\"https://civitai.com/api/download/models/\", str(model_id))\n",
    "\n",
    "url_download(url=url, local_dir=path, token=token)"
   ]
  },
  {
   "cell_type": "code",
   "execution_count": 1,
   "metadata": {},
   "outputs": [
    {
     "data": {
      "text/plain": [
       "(9409,\n",
       " '万象熔炉 | Anything XL',\n",
       " None,\n",
       " 'Checkpoint',\n",
       " False,\n",
       " False,\n",
       " True,\n",
       " ['Image', 'RentCivit', 'Rent', 'Sell'],\n",
       " {'downloadCount': 351609,\n",
       "  'favoriteCount': 0,\n",
       "  'commentCount': 190,\n",
       "  'ratingCount': 0,\n",
       "  'rating': 0},\n",
       " 'Yuno779',\n",
       " ['anime', 'base model'],\n",
       " [384264, 866217, 90854, 30163, 34373, 47248, 11164],\n",
       " ['XL', 'XL Hyper 8steps CFG1', 'ink_base', 'V5.0', 'V3.0', 'V2.1', 'V1.0'],\n",
       " ['https://civitai.com/api/download/models/384264',\n",
       "  'https://civitai.com/api/download/models/866217',\n",
       "  'https://civitai.com/api/download/models/90854',\n",
       "  'https://civitai.com/api/download/models/30163',\n",
       "  'https://civitai.com/api/download/models/34373',\n",
       "  'https://civitai.com/api/download/models/47248',\n",
       "  'https://civitai.com/api/download/models/11164'])"
      ]
     },
     "execution_count": 1,
     "metadata": {},
     "output_type": "execute_result"
    }
   ],
   "source": [
    "from civitai_downloader.api.model import get_model_info_from_api\n",
    "from civitai_downloader.token.token import get_token, prompt_for_civitai_token\n",
    "\n",
    "token=get_token()\n",
    "\n",
    "if token is None:\n",
    "    token = prompt_for_civitai_token()\n",
    "\n",
    "get_model_info_from_api(9409, token)"
   ]
  },
  {
   "cell_type": "code",
   "execution_count": 4,
   "metadata": {},
   "outputs": [
    {
     "data": {
      "text/plain": [
       "(384264,\n",
       " 9409,\n",
       " 'XL',\n",
       " '2024-03-10T08:06:40.214Z',\n",
       " '2024-09-19T04:27:26.481Z',\n",
       " [],\n",
       " 'SDXL 1.0',\n",
       " None)"
      ]
     },
     "execution_count": 4,
     "metadata": {},
     "output_type": "execute_result"
    }
   ],
   "source": [
    "from civitai_downloader.api.model import get_model_version_info_from_api\n",
    "from civitai_downloader.token.token import get_token, prompt_for_civitai_token\n",
    "\n",
    "token=get_token()\n",
    "\n",
    "if token is None:\n",
    "        token = prompt_for_civitai_token()\n",
    "\n",
    "get_model_version_info_from_api(384264, token)"
   ]
  }
 ],
 "metadata": {
  "kernelspec": {
   "display_name": "Python 3",
   "language": "python",
   "name": "python3"
  },
  "language_info": {
   "codemirror_mode": {
    "name": "ipython",
    "version": 3
   },
   "file_extension": ".py",
   "mimetype": "text/x-python",
   "name": "python",
   "nbconvert_exporter": "python",
   "pygments_lexer": "ipython3",
   "version": "3.12.7"
  }
 },
 "nbformat": 4,
 "nbformat_minor": 2
}
