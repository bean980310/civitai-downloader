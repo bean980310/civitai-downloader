{
 "cells": [
  {
   "cell_type": "code",
   "execution_count": 1,
   "metadata": {},
   "outputs": [],
   "source": [
    "from civitai_downloader import login\n",
    "\n",
    "token=login()"
   ]
  },
  {
   "cell_type": "code",
   "execution_count": 2,
   "metadata": {},
   "outputs": [
    {
     "data": {
      "application/vnd.jupyter.widget-view+json": {
       "model_id": "a6819760d9124145858a4fc452bf7a39",
       "version_major": 2,
       "version_minor": 0
      },
      "text/plain": [
       "VBox(children=(HTML(value='<b>Downloading</b> Anime Enhancer - Midrange - ClipSkip1 - [Concept] - Version 1.sa…"
      ]
     },
     "metadata": {},
     "output_type": "display_data"
    },
    {
     "name": "stdout",
     "output_type": "stream",
     "text": [
      "Downloading: https://civitai.com/api/download/models/215522\n",
      "Saved as: ./Anime Enhancer - Midrange - ClipSkip1 - [Concept] - Version 1.safetensors\n",
      "\n"
     ]
    }
   ],
   "source": [
    "from civitai_downloader import civitai_download\n",
    "\n",
    "model_id=215522\n",
    "path=\".\"\n",
    "\n",
    "civitai_download(model_version_id=model_id, local_dir=path)"
   ]
  },
  {
   "cell_type": "code",
   "execution_count": null,
   "metadata": {},
   "outputs": [],
   "source": [
    "from civitai_downloader import advanced_download\n",
    "\n",
    "model_id=6433\n",
    "path=\".\"\n",
    "type='Model'\n",
    "format='SafeTensor'\n",
    "size='full'\n",
    "fp='fp16'\n",
    "\n",
    "advanced_download(\n",
    "    model_version_id=model_id,\n",
    "    local_dir=path,\n",
    "    type_filter=type,\n",
    "    format_filter=format,\n",
    "    size_filter=size,\n",
    "    fp_filter=fp)"
   ]
  },
  {
   "cell_type": "code",
   "execution_count": null,
   "metadata": {},
   "outputs": [],
   "source": [
    "from civitai_downloader import url_download\n",
    "from urllib.parse import urljoin\n",
    "\n",
    "model_id=215522\n",
    "path=\".\"\n",
    "\n",
    "url=urljoin(\"https://civitai.com/api/download/models/\", str(model_id))\n",
    "\n",
    "url_download(url=url, local_dir=path)"
   ]
  },
  {
   "cell_type": "code",
   "execution_count": null,
   "metadata": {},
   "outputs": [],
   "source": [
    "from civitai_downloader import APIClient\n",
    "\n",
    "api=APIClient(token)\n",
    "\n",
    "info=api.get_model(9409)\n",
    "info.modelVersions"
   ]
  },
  {
   "cell_type": "code",
   "execution_count": null,
   "metadata": {},
   "outputs": [],
   "source": [
    "from civitai_downloader import APIClient\n",
    "\n",
    "api=APIClient(token)\n",
    "\n",
    "info=api.get_model_version(384264)\n",
    "info"
   ]
  },
  {
   "cell_type": "code",
   "execution_count": null,
   "metadata": {},
   "outputs": [],
   "source": [
    "from civitai_downloader import APIClient\n",
    "\n",
    "api=APIClient(token)\n",
    "\n",
    "info=api.get_model_version(647477)\n",
    "info"
   ]
  }
 ],
 "metadata": {
  "kernelspec": {
   "display_name": "base",
   "language": "python",
   "name": "python3"
  },
  "language_info": {
   "codemirror_mode": {
    "name": "ipython",
    "version": 3
   },
   "file_extension": ".py",
   "mimetype": "text/x-python",
   "name": "python",
   "nbconvert_exporter": "python",
   "pygments_lexer": "ipython3",
   "version": "3.12.2"
  }
 },
 "nbformat": 4,
 "nbformat_minor": 2
}
