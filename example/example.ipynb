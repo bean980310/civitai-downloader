{
 "cells": [
  {
   "cell_type": "code",
   "execution_count": 3,
   "metadata": {},
   "outputs": [
    {
     "name": "stdout",
     "output_type": "stream",
     "text": [
      "CivitAI API token already exists.\n"
     ]
    }
   ],
   "source": [
    "from civitai_downloader import login\n",
    "\n",
    "token=login()"
   ]
  },
  {
   "cell_type": "code",
   "execution_count": null,
   "metadata": {},
   "outputs": [],
   "source": [
    "from civitai_downloader.download\n",
    "\n",
    "model_id=215522\n",
    "path=\".\"\n",
    "\n",
    "civitai_download(model_version_id=model_id, local_dir=path, token=token)"
   ]
  },
  {
   "cell_type": "code",
   "execution_count": null,
   "metadata": {},
   "outputs": [],
   "source": [
    "from civitai_downloader.download.download import advanced_download\n",
    "from civitai_downloader.token.token import get_token, prompt_for_civitai_token\n",
    "\n",
    "token=get_token()\n",
    "\n",
    "if token is None:\n",
    "    token = prompt_for_civitai_token()\n",
    "\n",
    "model_id=6433\n",
    "path=\".\"\n",
    "type='Model'\n",
    "format='SafeTensor'\n",
    "size='full'\n",
    "fp='fp16'\n",
    "\n",
    "advanced_download(\n",
    "    model_version_id=model_id,\n",
    "    local_dir=path,\n",
    "    type_filter=type,\n",
    "    format_filter=format,\n",
    "    size_filter=size,\n",
    "    fp_filter=fp,\n",
    "    token=token)"
   ]
  },
  {
   "cell_type": "code",
   "execution_count": null,
   "metadata": {},
   "outputs": [],
   "source": [
    "from civitai_downloader.download.download import url_download\n",
    "from civitai_downloader.token.token import get_token, prompt_for_civitai_token\n",
    "from urllib.parse import urljoin\n",
    "\n",
    "token=get_token()\n",
    "\n",
    "if token is None:\n",
    "    token = prompt_for_civitai_token()\n",
    "\n",
    "url=urljoin(\"https://civitai.com/api/download/models/\", str(model_id))\n",
    "\n",
    "url_download(url=url, local_dir=path, token=token)"
   ]
  },
  {
   "cell_type": "code",
   "execution_count": null,
   "metadata": {},
   "outputs": [],
   "source": [
    "from civitai_downloader.api.model import get_model_info_simple_from_api\n",
    "from civitai_downloader.token.token import get_token, prompt_for_civitai_token\n",
    "\n",
    "token=get_token()\n",
    "\n",
    "if token is None:\n",
    "    token = prompt_for_civitai_token()\n",
    "\n",
    "get_model_info_simple_from_api(9409, token)"
   ]
  },
  {
   "cell_type": "code",
   "execution_count": null,
   "metadata": {},
   "outputs": [],
   "source": [
    "from civitai_downloader.api.model import get_model_version_info_from_api\n",
    "from civitai_downloader.token.token import get_token, prompt_for_civitai_token\n",
    "\n",
    "token=get_token()\n",
    "\n",
    "if token is None:\n",
    "        token = prompt_for_civitai_token()\n",
    "\n",
    "info=get_model_version_info_from_api(384264, token)\n",
    "info.get('files', [])"
   ]
  },
  {
   "cell_type": "code",
   "execution_count": null,
   "metadata": {},
   "outputs": [],
   "source": [
    "from civitai_downloader.api import ModelAPI, ModelVersionAPI,\n",
    "from civitai_api.models import BaseModel, ModelType\n",
    "from civitai_api.api.models import ModelSort, ModelPeriod\n",
    "from civitai_downloader.token.token import get_token\n",
    "\n",
    "token=get_token()\n",
    "\n",
    "civitai=Civitai(api_key=token)\n",
    "\n",
    "version_id=384264\n",
    "\n",
    "version=civitai.model_versions.get_model_version(version_id)\n",
    "print(version.files)\n",
    "\n",
    "print(version.files[0].name)\n",
    "print(version.files[0].id)\n",
    "print(version.files[0].type)"
   ]
  }
 ],
 "metadata": {
  "kernelspec": {
   "display_name": "Python 3",
   "language": "python",
   "name": "python3"
  },
  "language_info": {
   "codemirror_mode": {
    "name": "ipython",
    "version": 3
   },
   "file_extension": ".py",
   "mimetype": "text/x-python",
   "name": "python",
   "nbconvert_exporter": "python",
   "pygments_lexer": "ipython3",
   "version": "3.12.7"
  }
 },
 "nbformat": 4,
 "nbformat_minor": 2
}
