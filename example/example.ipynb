{
 "cells": [
  {
   "cell_type": "code",
   "execution_count": 1,
   "metadata": {},
   "outputs": [
    {
     "data": {
      "text/plain": [
       "('https://civitai.com/api/download/models/215522',\n",
       " 'Anime Enhancer - Midrange - ClipSkip1 - [Concept] - Version 1.safetensors',\n",
       " 151110184,\n",
       " '.',\n",
       " 'e6e97f3ae1758b899f3be4e905975192')"
      ]
     },
     "execution_count": 1,
     "metadata": {},
     "output_type": "execute_result"
    },
    {
     "data": {
      "application/vnd.jupyter.widget-view+json": {
       "model_id": "dbee40819ab849068186497f311b622b",
       "version_major": 2,
       "version_minor": 0
      },
      "text/plain": [
       "VBox(children=(HTML(value='<b>Downloading</b> Anime Enhancer - Midrange - ClipSkip1 - [Concept] - Version 1.sa…"
      ]
     },
     "metadata": {},
     "output_type": "display_data"
    }
   ],
   "source": [
    "from civitai_downloader.download.download import civitai_download\n",
    "from civitai_downloader.token.token import get_token, prompt_for_civitai_token\n",
    "\n",
    "token=get_token()\n",
    "\n",
    "if token is None:\n",
    "    token = prompt_for_civitai_token()\n",
    "\n",
    "model_id=215522\n",
    "path=\".\"\n",
    "\n",
    "civitai_download(model_id=model_id, local_dir=path, token=token)"
   ]
  },
  {
   "cell_type": "code",
   "execution_count": 1,
   "metadata": {},
   "outputs": [
    {
     "data": {
      "text/plain": [
       "('https://civitai.com/api/download/models/6433?type=Training%20Data',\n",
       " '.',\n",
       " 'e6e97f3ae1758b899f3be4e905975192')"
      ]
     },
     "execution_count": 1,
     "metadata": {},
     "output_type": "execute_result"
    },
    {
     "data": {
      "application/vnd.jupyter.widget-view+json": {
       "model_id": "1ec571b0f0ec48909da88713c1182f66",
       "version_major": 2,
       "version_minor": 0
      },
      "text/plain": [
       "VBox(children=(HTML(value='<b>Downloading</b> Eyes.zip'), HBox(children=(IntProgress(value=0, bar_style='info'…"
      ]
     },
     "metadata": {},
     "output_type": "display_data"
    }
   ],
   "source": [
    "from civitai_downloader.download.download import advanced_download\n",
    "from civitai_downloader.token.token import get_token, prompt_for_civitai_token\n",
    "\n",
    "token=get_token()\n",
    "\n",
    "if token is None:\n",
    "    token = prompt_for_civitai_token()\n",
    "\n",
    "model_id=6433\n",
    "path=\".\"\n",
    "type='Model'\n",
    "format='SafeTensor'\n",
    "size='full'\n",
    "fp='fp16'\n",
    "\n",
    "advanced_download(\n",
    "    model_id=model_id,\n",
    "    local_dir=path,\n",
    "    type=type,\n",
    "    format=format,\n",
    "    size=size,\n",
    "    fp=fp,\n",
    "    token=token)"
   ]
  },
  {
   "cell_type": "code",
   "execution_count": 3,
   "metadata": {},
   "outputs": [
    {
     "data": {
      "text/plain": [
       "('https://civitai.com/api/download/models/215522',\n",
       " '.',\n",
       " 'e6e97f3ae1758b899f3be4e905975192')"
      ]
     },
     "execution_count": 3,
     "metadata": {},
     "output_type": "execute_result"
    }
   ],
   "source": [
    "from civitai_downloader.download.download import url_download\n",
    "from civitai_downloader.token.token import get_token, prompt_for_civitai_token\n",
    "from urllib.parse import urljoin\n",
    "\n",
    "token=get_token()\n",
    "\n",
    "if token is None:\n",
    "    token = prompt_for_civitai_token()\n",
    "\n",
    "url=urljoin(\"https://civitai.com/api/download/models/\", str(model_id))\n",
    "\n",
    "url_download(url=url, local_dir=path, token=token)"
   ]
  },
  {
   "cell_type": "code",
   "execution_count": 1,
   "metadata": {},
   "outputs": [
    {
     "data": {
      "text/plain": [
       "(9409,\n",
       " '万象熔炉 | Anything XL',\n",
       " 'Checkpoint',\n",
       " False,\n",
       " False,\n",
       " True,\n",
       " ['Image', 'RentCivit', 'Rent', 'Sell'],\n",
       " {'downloadCount': 352054,\n",
       "  'favoriteCount': 0,\n",
       "  'commentCount': 190,\n",
       "  'ratingCount': 0,\n",
       "  'rating': 0},\n",
       " 'Yuno779',\n",
       " 'https://image.civitai.com/xG1nkqKTMzGDvpLrqFT7WA/c2b9c4e0-c227-4d50-99b3-f8479dd2020f/width=96/Yuno779.jpeg',\n",
       " ['anime', 'base model'],\n",
       " [{'id': 384264,\n",
       "   'name': 'XL',\n",
       "   'createdAt': '2024-03-10T08:06:40.214Z',\n",
       "   'updatedAt': None,\n",
       "   'trainedWords': None,\n",
       "   'baseModel': 'SDXL 1.0',\n",
       "   'description': None,\n",
       "   'downloadUrl': 'https://civitai.com/api/download/models/384264',\n",
       "   'files.name': ['AnythingXL_xl.safetensors'],\n",
       "   'files.downloadUrl': ['https://civitai.com/api/download/models/384264'],\n",
       "   'images.url': ['https://image.civitai.com/xG1nkqKTMzGDvpLrqFT7WA/4bdea703-131d-403c-89c7-d823ad8683a9/width=450/12622035.jpeg',\n",
       "    'https://image.civitai.com/xG1nkqKTMzGDvpLrqFT7WA/2fd02903-dd2c-45f8-9b24-517a859dafa5/width=450/7721760.jpeg',\n",
       "    'https://image.civitai.com/xG1nkqKTMzGDvpLrqFT7WA/afb60399-a5e6-40fd-8471-8e614ad034ad/width=450/8079461.jpeg',\n",
       "    'https://image.civitai.com/xG1nkqKTMzGDvpLrqFT7WA/1dcff5e1-9e5c-4949-a52a-afa9ddf664e7/width=450/8135802.jpeg',\n",
       "    'https://image.civitai.com/xG1nkqKTMzGDvpLrqFT7WA/bb57bdff-d5a7-4049-b68d-38b8401154c6/width=450/8135807.jpeg',\n",
       "    'https://image.civitai.com/xG1nkqKTMzGDvpLrqFT7WA/087c95b6-7958-40ec-8a67-aedc35a6b25b/width=450/7721879.jpeg',\n",
       "    'https://image.civitai.com/xG1nkqKTMzGDvpLrqFT7WA/932c8e32-ee32-48ee-b071-956bcc73a7fe/width=450/8136223.jpeg',\n",
       "    'https://image.civitai.com/xG1nkqKTMzGDvpLrqFT7WA/11ea9055-9e96-49ea-99e4-a74b94a3b085/width=450/8135800.jpeg',\n",
       "    'https://image.civitai.com/xG1nkqKTMzGDvpLrqFT7WA/9c3e2e1a-c701-446f-b96e-de908f05a181/width=450/8135803.jpeg',\n",
       "    'https://image.civitai.com/xG1nkqKTMzGDvpLrqFT7WA/15257c4e-3338-49cf-8492-6f40e58571f6/width=450/8135801.jpeg',\n",
       "    'https://image.civitai.com/xG1nkqKTMzGDvpLrqFT7WA/21f47efc-dda6-42b7-8ce4-9cc59122d2e9/width=450/8135804.jpeg',\n",
       "    'https://image.civitai.com/xG1nkqKTMzGDvpLrqFT7WA/59140ff0-8ecc-4922-acc6-6d1a82b36cdf/width=450/8135806.jpeg',\n",
       "    'https://image.civitai.com/xG1nkqKTMzGDvpLrqFT7WA/ff46e9c6-210a-4b49-81f5-5a6f2bab1ca9/width=450/8135805.jpeg',\n",
       "    'https://image.civitai.com/xG1nkqKTMzGDvpLrqFT7WA/b97fc1df-59c0-4912-97fa-a79ccacc3628/width=450/8135809.jpeg',\n",
       "    'https://image.civitai.com/xG1nkqKTMzGDvpLrqFT7WA/d08cb0cf-3e19-4967-84dc-19fc2413bfb1/width=450/8135799.jpeg',\n",
       "    'https://image.civitai.com/xG1nkqKTMzGDvpLrqFT7WA/030b6661-d054-43ed-9348-f48ab83d190b/width=450/8136030.jpeg',\n",
       "    'https://image.civitai.com/xG1nkqKTMzGDvpLrqFT7WA/9b1b6244-1b16-447c-995b-612b51dd3e62/width=450/8136029.jpeg',\n",
       "    'https://image.civitai.com/xG1nkqKTMzGDvpLrqFT7WA/69704af2-052f-4916-a2e3-ae658c43c0aa/width=450/8136028.jpeg',\n",
       "    'https://image.civitai.com/xG1nkqKTMzGDvpLrqFT7WA/f22f9a0c-d774-4728-981c-7dd9495cfca0/width=450/8136027.jpeg',\n",
       "    'https://image.civitai.com/xG1nkqKTMzGDvpLrqFT7WA/1bddb742-e00e-48a2-9a14-f2e5e993feaa/width=450/8136031.jpeg']},\n",
       "  {'id': 866217,\n",
       "   'name': 'XL Hyper 8steps CFG1',\n",
       "   'createdAt': '2024-09-19T03:40:53.494Z',\n",
       "   'updatedAt': None,\n",
       "   'trainedWords': None,\n",
       "   'baseModel': 'SDXL Hyper',\n",
       "   'description': None,\n",
       "   'downloadUrl': 'https://civitai.com/api/download/models/866217',\n",
       "   'files.name': ['AnythingXL_xlHyper8stepsCFG1.safetensors'],\n",
       "   'files.downloadUrl': ['https://civitai.com/api/download/models/866217'],\n",
       "   'images.url': ['https://image.civitai.com/xG1nkqKTMzGDvpLrqFT7WA/4c5dc409-fb62-4631-a9cd-3bda83e23fc2/width=450/30192973.jpeg']},\n",
       "  {'id': 90854,\n",
       "   'name': 'ink_base',\n",
       "   'createdAt': '2023-06-07T05:23:48.984Z',\n",
       "   'updatedAt': None,\n",
       "   'trainedWords': None,\n",
       "   'baseModel': 'SD 1.5',\n",
       "   'description': '<p>这次更新模型是为了代替老旧的Anything3.0。</p>',\n",
       "   'downloadUrl': 'https://civitai.com/api/download/models/90854',\n",
       "   'files.name': ['AnythingXL_inkBase.safetensors'],\n",
       "   'files.downloadUrl': ['https://civitai.com/api/download/models/90854'],\n",
       "   'images.url': ['https://image.civitai.com/xG1nkqKTMzGDvpLrqFT7WA/c38dc610-697c-4df3-9235-1b8ec89885bd/width=450/1058112.jpeg',\n",
       "    'https://image.civitai.com/xG1nkqKTMzGDvpLrqFT7WA/e87013fb-2818-4e04-9fbd-64ee260265fc/width=450/1652942.jpeg',\n",
       "    'https://image.civitai.com/xG1nkqKTMzGDvpLrqFT7WA/434cd3e0-187d-465b-a8ea-26f09f7c6eab/width=450/2358011.jpeg',\n",
       "    'https://image.civitai.com/xG1nkqKTMzGDvpLrqFT7WA/9098a383-5b0f-42c8-89d5-3c02b4655ff1/width=450/1662197.jpeg',\n",
       "    'https://image.civitai.com/xG1nkqKTMzGDvpLrqFT7WA/e241170a-106d-425e-955b-d24d9a66c9b3/width=450/1664688.jpeg',\n",
       "    'https://image.civitai.com/xG1nkqKTMzGDvpLrqFT7WA/c1405c81-bdd0-4996-9877-fb68790d24f2/width=450/1638925.jpeg',\n",
       "    'https://image.civitai.com/xG1nkqKTMzGDvpLrqFT7WA/dc245951-bbca-4f9b-9f45-99551a31ca2d/width=450/1311891.jpeg',\n",
       "    'https://image.civitai.com/xG1nkqKTMzGDvpLrqFT7WA/6a2be358-6102-4d51-b361-fa593e023cea/width=450/1058110.jpeg',\n",
       "    'https://image.civitai.com/xG1nkqKTMzGDvpLrqFT7WA/1b608438-18cc-4cb8-928b-8f2b930506d6/width=450/1058115.jpeg',\n",
       "    'https://image.civitai.com/xG1nkqKTMzGDvpLrqFT7WA/4f241130-836a-41cb-8007-431473024b16/width=450/1058107.jpeg',\n",
       "    'https://image.civitai.com/xG1nkqKTMzGDvpLrqFT7WA/15305846-8ef1-49ae-a78a-647bea9338e3/width=450/1063429.jpeg',\n",
       "    'https://image.civitai.com/xG1nkqKTMzGDvpLrqFT7WA/23bc4831-5d22-4c4d-a014-45f3350cd267/width=450/1058118.jpeg',\n",
       "    'https://image.civitai.com/xG1nkqKTMzGDvpLrqFT7WA/e88d5922-479a-4359-a671-624decc8912b/width=450/1058109.jpeg',\n",
       "    'https://image.civitai.com/xG1nkqKTMzGDvpLrqFT7WA/3cc2cf95-1e37-461d-ad8e-63251096cfe2/width=450/1058116.jpeg',\n",
       "    'https://image.civitai.com/xG1nkqKTMzGDvpLrqFT7WA/3bc17c33-544e-4513-aad1-d80a28f33291/width=450/1058120.jpeg',\n",
       "    'https://image.civitai.com/xG1nkqKTMzGDvpLrqFT7WA/b1ca7b57-41d7-451e-b584-c3c8a6fed13c/width=450/1058117.jpeg',\n",
       "    'https://image.civitai.com/xG1nkqKTMzGDvpLrqFT7WA/0d6c4b6a-6d41-48ae-a611-8e644bea810c/width=450/1058108.jpeg',\n",
       "    'https://image.civitai.com/xG1nkqKTMzGDvpLrqFT7WA/43407c11-5d64-44bd-8497-41e9b5b0e68c/width=450/1058111.jpeg',\n",
       "    'https://image.civitai.com/xG1nkqKTMzGDvpLrqFT7WA/e1553c0c-616a-45ed-aeb0-88f4ae28bc18/width=450/1058106.jpeg',\n",
       "    'https://image.civitai.com/xG1nkqKTMzGDvpLrqFT7WA/f9c1b1aa-97e0-426e-88e9-eb4c2568e318/width=450/1058113.jpeg']},\n",
       "  {'id': 30163,\n",
       "   'name': 'V5.0',\n",
       "   'createdAt': '2023-03-27T14:50:00.829Z',\n",
       "   'updatedAt': None,\n",
       "   'trainedWords': None,\n",
       "   'baseModel': 'SD 1.5',\n",
       "   'description': None,\n",
       "   'downloadUrl': 'https://civitai.com/api/download/models/30163',\n",
       "   'files.name': ['AnythingXL_v50.safetensors'],\n",
       "   'files.downloadUrl': ['https://civitai.com/api/download/models/30163'],\n",
       "   'images.url': ['https://image.civitai.com/xG1nkqKTMzGDvpLrqFT7WA/56d4c63f-5be6-4ef0-b45b-7fdef85b44ad/width=450/963335.jpeg',\n",
       "    'https://image.civitai.com/xG1nkqKTMzGDvpLrqFT7WA/331caf64-8b9f-4811-9c20-83d55e7c6ce8/width=450/963338.jpeg',\n",
       "    'https://image.civitai.com/xG1nkqKTMzGDvpLrqFT7WA/f250955f-425c-4503-8b7a-39acfd13e778/width=450/963505.jpeg',\n",
       "    'https://image.civitai.com/xG1nkqKTMzGDvpLrqFT7WA/c57c4c22-22f4-40bb-a1b4-16c6198e20bb/width=450/963361.jpeg',\n",
       "    'https://image.civitai.com/xG1nkqKTMzGDvpLrqFT7WA/aeda34a6-4db8-4f7e-23fd-c7bac4bcae00/width=450/342218.jpeg',\n",
       "    'https://image.civitai.com/xG1nkqKTMzGDvpLrqFT7WA/d6de1866-5fcd-4200-c5e0-a3159b5b5d00/width=450/342217.jpeg',\n",
       "    'https://image.civitai.com/xG1nkqKTMzGDvpLrqFT7WA/5a67e6c4-553e-4f40-c5bf-ef4bf2aff100/width=450/342216.jpeg']},\n",
       "  {'id': 34373,\n",
       "   'name': 'V3.0',\n",
       "   'createdAt': '2023-04-03T11:50:41.766Z',\n",
       "   'updatedAt': None,\n",
       "   'trainedWords': None,\n",
       "   'baseModel': 'SD 1.5',\n",
       "   'description': None,\n",
       "   'downloadUrl': 'https://civitai.com/api/download/models/34373',\n",
       "   'files.name': ['AnythingXL_v30.ckpt'],\n",
       "   'files.downloadUrl': ['https://civitai.com/api/download/models/34373'],\n",
       "   'images.url': ['https://image.civitai.com/xG1nkqKTMzGDvpLrqFT7WA/67496438-d776-4f73-cf64-efe5b9b9bf00/width=450/392534.jpeg',\n",
       "    'https://image.civitai.com/xG1nkqKTMzGDvpLrqFT7WA/56b5cef5-a70d-4537-9c72-fa8295f68400/width=450/392533.jpeg',\n",
       "    'https://image.civitai.com/xG1nkqKTMzGDvpLrqFT7WA/e7eb65a2-7c4e-465f-6fb9-31ecd760c900/width=450/392532.jpeg',\n",
       "    'https://image.civitai.com/xG1nkqKTMzGDvpLrqFT7WA/9e5f4962-b2c7-43bf-8d01-12fecd7e8100/width=450/392531.jpeg']},\n",
       "  {'id': 47248,\n",
       "   'name': 'V2.1',\n",
       "   'createdAt': '2023-04-16T14:18:35.533Z',\n",
       "   'updatedAt': None,\n",
       "   'trainedWords': None,\n",
       "   'baseModel': 'SD 1.5',\n",
       "   'description': None,\n",
       "   'downloadUrl': 'https://civitai.com/api/download/models/47248',\n",
       "   'files.name': ['AnythingXL_v21.safetensors'],\n",
       "   'files.downloadUrl': ['https://civitai.com/api/download/models/47248'],\n",
       "   'images.url': ['https://image.civitai.com/xG1nkqKTMzGDvpLrqFT7WA/b1add6da-600a-4472-8b0f-33ed73721a00/width=450/509979.jpeg']},\n",
       "  {'id': 11164,\n",
       "   'name': 'V1.0',\n",
       "   'createdAt': '2023-02-16T11:24:28.178Z',\n",
       "   'updatedAt': None,\n",
       "   'trainedWords': None,\n",
       "   'baseModel': 'SD 1.5',\n",
       "   'description': None,\n",
       "   'downloadUrl': 'https://civitai.com/api/download/models/11164',\n",
       "   'files.name': ['AnythingXL_v10.ckpt'],\n",
       "   'files.downloadUrl': ['https://civitai.com/api/download/models/11164'],\n",
       "   'images.url': ['https://image.civitai.com/xG1nkqKTMzGDvpLrqFT7WA/f826729a-9854-4712-c2c6-810609cd6400/width=450/141193.jpeg',\n",
       "    'https://image.civitai.com/xG1nkqKTMzGDvpLrqFT7WA/cffb8e6f-e55d-4a37-c9a2-52585a61b900/width=450/141192.jpeg']}])"
      ]
     },
     "execution_count": 1,
     "metadata": {},
     "output_type": "execute_result"
    }
   ],
   "source": [
    "from civitai_downloader.api.model import get_model_info_simple_from_api\n",
    "from civitai_downloader.token.token import get_token, prompt_for_civitai_token\n",
    "\n",
    "token=get_token()\n",
    "\n",
    "if token is None:\n",
    "    token = prompt_for_civitai_token()\n",
    "\n",
    "get_model_info_simple_from_api(9409, token)"
   ]
  },
  {
   "cell_type": "code",
   "execution_count": 1,
   "metadata": {},
   "outputs": [
    {
     "data": {
      "text/plain": [
       "(384264,\n",
       " 9409,\n",
       " 'XL',\n",
       " '2024-03-10T08:06:40.214Z',\n",
       " '2024-09-19T04:27:26.481Z',\n",
       " [],\n",
       " 'SDXL 1.0',\n",
       " None,\n",
       " [{'name': 'AnythingXL_xl.safetensors',\n",
       "   'downloadUrl': 'https://civitai.com/api/download/models/384264',\n",
       "   'type': 'Model',\n",
       "   'metadata': {'format': 'SafeTensor', 'size': 'full', 'fp': 'fp16'}}],\n",
       " ['https://image.civitai.com/xG1nkqKTMzGDvpLrqFT7WA/4bdea703-131d-403c-89c7-d823ad8683a9/width=450/12622035.jpeg',\n",
       "  'https://image.civitai.com/xG1nkqKTMzGDvpLrqFT7WA/2fd02903-dd2c-45f8-9b24-517a859dafa5/width=450/7721760.jpeg',\n",
       "  'https://image.civitai.com/xG1nkqKTMzGDvpLrqFT7WA/afb60399-a5e6-40fd-8471-8e614ad034ad/width=450/8079461.jpeg',\n",
       "  'https://image.civitai.com/xG1nkqKTMzGDvpLrqFT7WA/1dcff5e1-9e5c-4949-a52a-afa9ddf664e7/width=450/8135802.jpeg',\n",
       "  'https://image.civitai.com/xG1nkqKTMzGDvpLrqFT7WA/bb57bdff-d5a7-4049-b68d-38b8401154c6/width=450/8135807.jpeg',\n",
       "  'https://image.civitai.com/xG1nkqKTMzGDvpLrqFT7WA/087c95b6-7958-40ec-8a67-aedc35a6b25b/width=450/7721879.jpeg',\n",
       "  'https://image.civitai.com/xG1nkqKTMzGDvpLrqFT7WA/932c8e32-ee32-48ee-b071-956bcc73a7fe/width=450/8136223.jpeg',\n",
       "  'https://image.civitai.com/xG1nkqKTMzGDvpLrqFT7WA/11ea9055-9e96-49ea-99e4-a74b94a3b085/width=450/8135800.jpeg',\n",
       "  'https://image.civitai.com/xG1nkqKTMzGDvpLrqFT7WA/9c3e2e1a-c701-446f-b96e-de908f05a181/width=450/8135803.jpeg',\n",
       "  'https://image.civitai.com/xG1nkqKTMzGDvpLrqFT7WA/15257c4e-3338-49cf-8492-6f40e58571f6/width=450/8135801.jpeg'],\n",
       " 'https://civitai.com/api/download/models/384264')"
      ]
     },
     "execution_count": 1,
     "metadata": {},
     "output_type": "execute_result"
    }
   ],
   "source": [
    "from civitai_downloader.api.model import get_model_version_info_simple_from_api\n",
    "from civitai_downloader.token.token import get_token, prompt_for_civitai_token\n",
    "\n",
    "token=get_token()\n",
    "\n",
    "if token is None:\n",
    "        token = prompt_for_civitai_token()\n",
    "\n",
    "get_model_version_info_simple_from_api(384264, token)"
   ]
  }
 ],
 "metadata": {
  "kernelspec": {
   "display_name": "base",
   "language": "python",
   "name": "python3"
  },
  "language_info": {
   "codemirror_mode": {
    "name": "ipython",
    "version": 3
   },
   "file_extension": ".py",
   "mimetype": "text/x-python",
   "name": "python",
   "nbconvert_exporter": "python",
   "pygments_lexer": "ipython3",
   "version": "3.10.14"
  }
 },
 "nbformat": 4,
 "nbformat_minor": 2
}
