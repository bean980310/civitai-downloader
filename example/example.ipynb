{
 "cells": [
  {
   "cell_type": "code",
   "execution_count": 1,
   "metadata": {},
   "outputs": [
    {
     "name": "stdout",
     "output_type": "stream",
     "text": [
      "CivitAI API token already exists.\n"
     ]
    }
   ],
   "source": [
    "from civitai_downloader import login\n",
    "\n",
    "token=login()"
   ]
  },
  {
   "cell_type": "code",
   "execution_count": 2,
   "metadata": {},
   "outputs": [
    {
     "name": "stdout",
     "output_type": "stream",
     "text": [
      "File already exists: Anime Enhancer - Midrange - ClipSkip1 - [Concept] - Version 1.safetensors"
     ]
    },
    {
     "data": {
      "text/plain": [
       "('https://civitai.com/api/download/models/215522',\n",
       " 'Anime Enhancer - Midrange - ClipSkip1 - [Concept] - Version 1.safetensors',\n",
       " 151110184,\n",
       " '.',\n",
       " None)"
      ]
     },
     "execution_count": 2,
     "metadata": {},
     "output_type": "execute_result"
    },
    {
     "name": "stdout",
     "output_type": "stream",
     "text": [
      "\n"
     ]
    }
   ],
   "source": [
    "from civitai_downloader import civitai_download\n",
    "\n",
    "model_id=215522\n",
    "path=\".\"\n",
    "\n",
    "civitai_download(model_version_id=model_id, local_dir=path, token=token)"
   ]
  },
  {
   "cell_type": "code",
   "execution_count": 3,
   "metadata": {},
   "outputs": [
    {
     "name": "stdout",
     "output_type": "stream",
     "text": [
      "File already exists: Loraeyes_V1.safetensors"
     ]
    },
    {
     "data": {
      "text/plain": [
       "('https://civitai.com/api/download/models/6433',\n",
       " 'Loraeyes_V1.safetensors',\n",
       " 151074621,\n",
       " '.',\n",
       " None)"
      ]
     },
     "execution_count": 3,
     "metadata": {},
     "output_type": "execute_result"
    },
    {
     "name": "stdout",
     "output_type": "stream",
     "text": [
      "\n"
     ]
    }
   ],
   "source": [
    "from civitai_downloader import advanced_download\n",
    "\n",
    "model_id=6433\n",
    "path=\".\"\n",
    "type='Model'\n",
    "format='SafeTensor'\n",
    "size='full'\n",
    "fp='fp16'\n",
    "\n",
    "advanced_download(\n",
    "    model_version_id=model_id,\n",
    "    local_dir=path,\n",
    "    type_filter=type,\n",
    "    format_filter=format,\n",
    "    size_filter=size,\n",
    "    fp_filter=fp,\n",
    "    token=token)"
   ]
  },
  {
   "cell_type": "code",
   "execution_count": 4,
   "metadata": {},
   "outputs": [
    {
     "name": "stdout",
     "output_type": "stream",
     "text": [
      "File already exists: Anime Enhancer - Midrange - ClipSkip1 - [Concept] - Version 1.safetensors"
     ]
    },
    {
     "data": {
      "text/plain": [
       "('https://civitai.com/api/download/models/215522',\n",
       " 'Anime Enhancer - Midrange - ClipSkip1 - [Concept] - Version 1.safetensors',\n",
       " 151110184,\n",
       " '.',\n",
       " None)"
      ]
     },
     "execution_count": 4,
     "metadata": {},
     "output_type": "execute_result"
    },
    {
     "name": "stdout",
     "output_type": "stream",
     "text": [
      "\n"
     ]
    }
   ],
   "source": [
    "from civitai_downloader import url_download\n",
    "from urllib.parse import urljoin\n",
    "\n",
    "model_id=215522\n",
    "path=\".\"\n",
    "\n",
    "url=urljoin(\"https://civitai.com/api/download/models/\", str(model_id))\n",
    "\n",
    "url_download(url=url, local_dir=path, token=token)"
   ]
  },
  {
   "cell_type": "code",
   "execution_count": 8,
   "metadata": {},
   "outputs": [
    {
     "data": {
      "text/plain": [
       "[ModelVersions(id=384264, modelId=None, name='XL', createdAt='2024-03-10T08:06:40.214Z', updatedAt=None, trainedWords=[], baseModel='SDXL 1.0', earlyAccessTimeFrame=None, description=None, stats={'downloadCount': 75240, 'ratingCount': 0, 'rating': 0, 'thumbsUpCount': 4927, 'thumbsDownCount': 18}, files=[ModelVersionFile(name='AnythingXL_xl.safetensors', id=308621, sizeKB=6775431.228515625, type='Model', metadata=ModelVersionFileMetadata(fp='fp16', size='full', format='SafeTensor'), pickleScanResult='Success', pickleScanMessage='No Pickle imports', virusScanResult='Success', scannedAt='2024-03-10T09:28:34.194Z', hashes={'AutoV1': '3A68E6C2', 'AutoV2': '8421598E93', 'SHA256': '8421598E930BE75D6E7AFC80DB0EF38CF324901966BD0FB8739E69C448E18A89', 'CRC32': '67B45E26', 'BLAKE3': '8BE5050CB86A74487C6D034A1238020EA5855A19B11733813DD643C70E37F4FE', 'AutoV3': '40FB10F6344A'}, primary=True, downloadUrl='https://civitai.com/api/download/models/384264')], images=[], downloadUrl='https://civitai.com/api/download/models/384264'),\n",
       " ModelVersions(id=866217, modelId=None, name='XL Hyper 8steps CFG1', createdAt='2024-09-19T03:40:53.494Z', updatedAt=None, trainedWords=[], baseModel='SDXL Hyper', earlyAccessTimeFrame=None, description=None, stats={'downloadCount': 775, 'ratingCount': 0, 'rating': 0, 'thumbsUpCount': 64, 'thumbsDownCount': 0}, files=[ModelVersionFile(name='AnythingXL_xlHyper8stepsCFG1.safetensors', id=775168, sizeKB=6775430.376953125, type='Model', metadata=ModelVersionFileMetadata(fp='fp16', size='full', format='SafeTensor'), pickleScanResult='Success', pickleScanMessage='No Pickle imports', virusScanResult='Success', scannedAt='2024-09-19T04:08:26.946Z', hashes={'AutoV1': 'DA746589', 'AutoV2': '6B5D5C70DB', 'SHA256': '6B5D5C70DBCBE7E2C949C423B42F082AA6D6AA0766745310D2D85865E4D67B57', 'CRC32': 'E8BA5818', 'BLAKE3': 'B019DB886F52A230F7D05A8AA218B82CBB788BB86DB976086BCFBC7685CDDF2B', 'AutoV3': '899B716EB8F4'}, primary=True, downloadUrl='https://civitai.com/api/download/models/866217')], images=[], downloadUrl='https://civitai.com/api/download/models/866217'),\n",
       " ModelVersions(id=90854, modelId=None, name='ink_base', createdAt='2023-06-07T05:23:48.984Z', updatedAt=None, trainedWords=[], baseModel='SD 1.5', earlyAccessTimeFrame=None, description='<p>这次更新模型是为了代替老旧的Anything3.0。</p>', stats={'downloadCount': 149436, 'ratingCount': 5239, 'rating': 4.99, 'thumbsUpCount': 9481, 'thumbsDownCount': 6}, files=[ModelVersionFile(name='AnythingXL_inkBase.safetensors', id=62542, sizeKB=2082642.642578125, type='Model', metadata=ModelVersionFileMetadata(fp='fp16', size='full', format='SafeTensor'), pickleScanResult='Success', pickleScanMessage='No Pickle imports', virusScanResult='Success', scannedAt='2023-06-07T05:48:05.997Z', hashes={'AutoV1': 'A45EB6E9', 'AutoV2': 'A1535D0A42', 'SHA256': 'A1535D0A42CE4F8822ED034C15AEFF62CC515836E388511D294645D11DB8C10D', 'CRC32': '96534BA3', 'BLAKE3': 'CD0B52DC006ECF3D2218D2198D84CDD71D6B2F5960C0E535ED285AF9E5D74888'}, primary=True, downloadUrl='https://civitai.com/api/download/models/90854')], images=[], downloadUrl='https://civitai.com/api/download/models/90854'),\n",
       " ModelVersions(id=30163, modelId=None, name='V5.0', createdAt='2023-03-27T14:50:00.829Z', updatedAt=None, trainedWords=[], baseModel='SD 1.5', earlyAccessTimeFrame=None, description=None, stats={'downloadCount': 119151, 'ratingCount': 1902, 'rating': 4.97, 'thumbsUpCount': 2311, 'thumbsDownCount': 7}, files=[ModelVersionFile(name='AnythingXL_v50.safetensors', id=24906, sizeKB=2082642.677734375, type='Model', metadata=ModelVersionFileMetadata(fp='fp16', size='full', format='SafeTensor'), pickleScanResult='Success', pickleScanMessage='No Pickle imports', virusScanResult='Success', scannedAt='2023-03-27T16:57:08.453Z', hashes={'AutoV1': '893E49B9', 'AutoV2': '7F96A1A9CA', 'SHA256': '7F96A1A9CA9B3A3242A9AE95D19284F0D2DA8D5282B42D2D974398BF7663A252', 'CRC32': '1AE2FE78', 'BLAKE3': '3F550C0F090B89F37BA443D06E063AEFDF6DE08BBCC368C174236A38229E9A6A'}, primary=True, downloadUrl='https://civitai.com/api/download/models/30163')], images=[], downloadUrl='https://civitai.com/api/download/models/30163'),\n",
       " ModelVersions(id=34373, modelId=None, name='V3.0', createdAt='2023-04-03T11:50:41.766Z', updatedAt=None, trainedWords=[], baseModel='SD 1.5', earlyAccessTimeFrame=None, description=None, stats={'downloadCount': 5189, 'ratingCount': 1720, 'rating': 5, 'thumbsUpCount': 1733, 'thumbsDownCount': 0}, files=[ModelVersionFile(name='AnythingXL_v30.ckpt', id=28250, sizeKB=4165359.107421875, type='Model', metadata=ModelVersionFileMetadata(fp='fp16', size='full', format='PickleTensor'), pickleScanResult='Success', pickleScanMessage='No Pickle imports', virusScanResult='Success', scannedAt='2023-04-03T11:57:46.917Z', hashes={'AutoV1': 'A562BF92', 'AutoV2': 'DDD3B969B7', 'SHA256': 'DDD3B969B7720A29CFBE5C891229F351EBD35D19DBD3E9290E5145572B4772B0', 'CRC32': '2D21EE31', 'BLAKE3': 'D673F5D389F5D9AB28DBD2DC7F94FC64162F25DC3B7438F161BF332B1302FB30'}, primary=True, downloadUrl='https://civitai.com/api/download/models/34373')], images=[], downloadUrl='https://civitai.com/api/download/models/34373'),\n",
       " ModelVersions(id=47248, modelId=None, name='V2.1', createdAt='2023-04-16T14:18:35.533Z', updatedAt=None, trainedWords=[], baseModel='SD 1.5', earlyAccessTimeFrame=None, description=None, stats={'downloadCount': 1937, 'ratingCount': 4742, 'rating': 5, 'thumbsUpCount': 4735, 'thumbsDownCount': 0}, files=[ModelVersionFile(name='AnythingXL_v21.safetensors', id=35145, sizeKB=2246028.994140625, type='Model', metadata=ModelVersionFileMetadata(fp='fp32', size='full', format='SafeTensor'), pickleScanResult='Success', pickleScanMessage='No Pickle imports', virusScanResult='Success', scannedAt='2023-04-16T14:51:47.891Z', hashes={'AutoV1': '28A93217', 'AutoV2': '6CB98F1854', 'SHA256': '6CB98F18547E8E0D675DF7ED53EBED6393F91CC8EBA631E6ADF60690480470DF', 'CRC32': '2D150104', 'BLAKE3': '8C0AB65DA8610D625BCF6B3A168CCB5F56D80EF752389C044507A34DE31DA2A5'}, primary=True, downloadUrl='https://civitai.com/api/download/models/47248')], images=[], downloadUrl='https://civitai.com/api/download/models/47248'),\n",
       " ModelVersions(id=11164, modelId=None, name='V1.0', createdAt='2023-02-16T11:24:28.178Z', updatedAt=None, trainedWords=[], baseModel='SD 1.5', earlyAccessTimeFrame=None, description=None, stats={'downloadCount': 1006, 'ratingCount': 361, 'rating': 5, 'thumbsUpCount': 370, 'thumbsDownCount': 0}, files=[ModelVersionFile(name='AnythingXL_v10.ckpt', id=10439, sizeKB=2082867.794921875, type='Model', metadata=ModelVersionFileMetadata(fp='fp16', size='full', format='PickleTensor'), pickleScanResult='Success', pickleScanMessage='No Pickle imports', virusScanResult='Success', scannedAt='2023-02-16T11:27:45.417Z', hashes={'AutoV1': '69E5E378', 'AutoV2': '76449D56E5', 'SHA256': '76449D56E51ED0CB4EBDD14E96E80F68DA9088B87BAC6299309D83AFCB803F41', 'CRC32': 'C2C524C2', 'BLAKE3': 'D68667550E9F030CB875003BDC949795B652070F0B0E94D442AA13B160C58E59'}, primary=True, downloadUrl='https://civitai.com/api/download/models/11164')], images=[], downloadUrl='https://civitai.com/api/download/models/11164')]"
      ]
     },
     "execution_count": 8,
     "metadata": {},
     "output_type": "execute_result"
    }
   ],
   "source": [
    "from civitai_downloader import APIClient\n",
    "\n",
    "api=APIClient(token)\n",
    "\n",
    "info=api.get_model(9409)\n",
    "info.modelVersions"
   ]
  },
  {
   "cell_type": "code",
   "execution_count": 6,
   "metadata": {},
   "outputs": [
    {
     "data": {
      "text/plain": [
       "ModelVersion(id=384264, modelId=9409, name='XL', createdAt='2024-03-10T08:06:40.214Z', updatedAt='2024-09-19T04:27:26.481Z', trainedWords=[], baseModel='SDXL 1.0', earlyAccessTimeFrame=None, description=None, stats={'downloadCount': 75242, 'ratingCount': 0, 'rating': 0, 'thumbsUpCount': 4927}, model={'name': '万象熔炉 | Anything XL', 'type': 'Checkpoint', 'nsfw': False, 'poi': False}, files=[ModelVersionFile(name='AnythingXL_xl.safetensors', id=308621, sizeKB=6775431.228515625, type='Model', metadata=ModelVersionFileMetadata(fp='fp16', size='full', format='SafeTensor'), pickleScanResult='Success', pickleScanMessage='No Pickle imports', virusScanResult='Success', scannedAt='2024-03-10T09:28:34.194Z', hashes={'AutoV1': '3A68E6C2', 'AutoV2': '8421598E93', 'SHA256': '8421598E930BE75D6E7AFC80DB0EF38CF324901966BD0FB8739E69C448E18A89', 'CRC32': '67B45E26', 'BLAKE3': '8BE5050CB86A74487C6D034A1238020EA5855A19B11733813DD643C70E37F4FE', 'AutoV3': '40FB10F6344A'}, primary=True, downloadUrl='https://civitai.com/api/download/models/384264')], images=[ModelVersionImages(url='https://image.civitai.com/xG1nkqKTMzGDvpLrqFT7WA/4bdea703-131d-403c-89c7-d823ad8683a9/width=450/12622035.jpeg', nsfw=None, width=1534, height=2243, hash='UALzz54U00?wpbELInWA00%L?aIAxvs:sRR.', meta=None), ModelVersionImages(url='https://image.civitai.com/xG1nkqKTMzGDvpLrqFT7WA/2fd02903-dd2c-45f8-9b24-517a859dafa5/width=450/7721760.jpeg', nsfw=None, width=1328, height=1944, hash='USMj8j9GVD.8}kT0%1RjSxIoa0xvxu-V%0xa', meta={'VAE': 'sdxl_vae.safetensors', 'ENSD': '31337', 'Size': '832x1216', 'seed': 3665112698, 'Model': 'AnythingXL-Beta4', 'steps': 28, 'hashes': {'model': '8421598e93'}, 'prompt': 'masterpiece, best quality,\\n1girl, solo, animal ears, bow, teeth, jacket, tail, open mouth, brown hair, orange background, bowtie, orange nails, simple background, cat ears, orange eyes, blue bow, animal ear fluff, cat tail, looking at viewer, upper body, shirt, school uniform, hood, striped bow, striped, white shirt, black jacket, blue bowtie, fingernails, long sleeves, cat girl, bangs, fangs, collared shirt, striped bowtie, short hair, tongue, hoodie, sharp teeth, facial mark, claw pose', 'Version': 'v1.8.0', 'sampler': 'Euler a', 'VAE hash': '63aeecb90f', 'cfgScale': 5, 'resources': [{'hash': '8421598e93', 'name': 'AnythingXL-Beta4', 'type': 'model'}], 'FP8 weight': 'Enable for SDXL', 'Model hash': '8421598e93', 'Hires steps': '16', 'Hires upscale': '1.6', 'Hires upscaler': 'R-ESRGAN 4x+ Anime6B', 'negativePrompt': 'lowres, bad, error, fewer, extra, missing, worst quality, jpeg artifacts, bad quality, watermark, signature, extra digits, artistic error, username, abstract, artist logo, artist name, signature, bad fingers, bad hand', 'Denoising strength': '0.5', 'Downcast alphas_cumprod': 'True', 'Cache FP16 weight for LoRA': 'False', 'Old prompt editing timelines': 'True'}), ModelVersionImages(url='https://image.civitai.com/xG1nkqKTMzGDvpLrqFT7WA/afb60399-a5e6-40fd-8471-8e614ad034ad/width=450/8079461.jpeg', nsfw=None, width=1024, height=1536, hash='UpOprvR+_N-px[aes+t7o}RkV@bHsSWVWXoe', meta={'seed': 1258687250, 'vaes': [], 'steps': 20, 'width': 1024, 'height': 1536, 'models': [], 'prompt': '1girl, Best quality, genshin,Touhou Project,Honkai StarRail, ((quan (kurisu tina))),(portrait),year 2023, blue hair, white background, open hand, rabbit girl, parody, blue eyes, dress, fox ears, fine art parody, outstretched hand, long sleeves, black footwear, socks, rabbit ears, twintails, animal ears, red dress, company connection, short hair, white socks, ponytail, simple background, short twintails,\\n\\nmasterpiece, newest, absurdres, safe', 'denoise': 1, 'sampler': 'Euler a', 'cfgScale': 7, 'modelIds': [], 'scheduler': 'normal', 'upscalers': [], 'versionIds': [], 'controlNets': [], 'negativePrompt': '(worst quality, low quality:1.4), negative_hand Negative Embedding,verybadimagenegative_v1.3, 2girls, nsfw:1.4,bad anatomy, bad hands, cropped, missing fingers,too many fingers, missing arms, long neck, Humpbacked, deformed, disfigured, poorly drawn face, distorted face, mutation, mutated, extra limb, ugly, poorly drawn hands, missing limb, floating limbs, disconnected limbs, malformed hands, out of focus, long body, missing toes, too many toes,monochrome, symbol, text, logo, door frame, window frame, mirror frame', 'additionalResources': []}), ModelVersionImages(url='https://image.civitai.com/xG1nkqKTMzGDvpLrqFT7WA/1dcff5e1-9e5c-4949-a52a-afa9ddf664e7/width=450/8135802.jpeg', nsfw=None, width=1024, height=1536, hash='UEM7o:-rJ5RoJ6Ep?IEO_4s=QR%1.9E4M{Iq', meta={'seed': 2247722991, 'vaes': [], 'steps': 20, 'width': 1024, 'height': 1536, 'models': [], 'prompt': '1girl, Best quality, genshin,Touhou Project,Honkai StarRail, mamimi(mamamimi),blade (galaxist),((fuzichoco,butterchalk,yoshinari you,mika pikazo)), school uniform, blunt bangs, holding pokemon, open mouth, one-hour drawing challenge, on head, blue background, looking at viewer, straight-on, one eye closed, white shirt, pokemon (creature), index finger raised, collared shirt, smile, animal, shirt, brown eyes, wing collar, blunt ends, teeth, long sleeves, hime cut, black hair, long hair, necktie, purple eyes, tongue, portrait, purple necktie, ;3, blue necktie, crossover, animal on head, grin, holding, cat,\\n\\nmasterpiece, newest, absurdres, safe', 'denoise': 1, 'sampler': 'Euler a', 'cfgScale': 7, 'modelIds': [], 'scheduler': 'normal', 'upscalers': [], 'versionIds': [], 'controlNets': [], 'negativePrompt': '(worst quality, low quality:1.4), negative_hand Negative Embedding,verybadimagenegative_v1.3, 2girls, nsfw:1.4,bad anatomy, bad hands, cropped, missing fingers,too many fingers, missing arms, long neck, Humpbacked, deformed, disfigured, poorly drawn face, distorted face, mutation, mutated, extra limb, ugly, poorly drawn hands, missing limb, floating limbs, disconnected limbs, malformed hands, out of focus, long body, missing toes, too many toes,monochrome, symbol, text, logo, door frame, window frame, mirror frame', 'additionalResources': []}), ModelVersionImages(url='https://image.civitai.com/xG1nkqKTMzGDvpLrqFT7WA/bb57bdff-d5a7-4049-b68d-38b8401154c6/width=450/8135807.jpeg', nsfw=None, width=960, height=1536, hash='UaQJQ6Rj_N-:?Gt6IoWBoyt7t7WBx]WBn~of', meta={'seed': 2272809976, 'vaes': [], 'steps': 20, 'width': 960, 'height': 1536, 'models': [], 'prompt': '1girl, best quality, blue ribbon, blue footwear, bell, open mouth, cat tail, white background, full body, waving, chibi, blush, cat ears, maid, tears, wristband, medium breasts, boots, kneeling, facing viewer, thighhighs, blonde hair, maid headdress, >_<, fangs, twintails, animal ears, tail, cleavage, solo focus, breasts, zettai ryouiki, garter straps, frills, closed eyes, black legwear, ahoge, ribbon, simple background, choker,\\n\\nmasterpiece, newest, absurdres, sensitive', 'denoise': 1, 'sampler': 'DPM++ 2S a Karras', 'cfgScale': 7, 'modelIds': [], 'scheduler': 'karras', 'upscalers': [], 'versionIds': [], 'controlNets': [], 'negativePrompt': 'Black-and-white picture,(worst quality, low quality:1.4), negative_hand Negative Embedding,verybadimagenegative_v1.3, 2girls, nsfw:1.4,bad anatomy, bad hands, cropped, missing fingers,too many fingers, missing arms, long neck, Humpbacked, deformed, disfigured, poorly drawn face, distorted face, mutation, mutated, extra limb, ugly, poorly drawn hands, missing limb, floating limbs, disconnected limbs, malformed hands, out of focus, long body, missing toes, too many toes,monochrome, symbol, text, logo, door frame, window frame, mirror frame', 'additionalResources': []}), ModelVersionImages(url='https://image.civitai.com/xG1nkqKTMzGDvpLrqFT7WA/087c95b6-7958-40ec-8a67-aedc35a6b25b/width=450/7721879.jpeg', nsfw=None, width=1536, height=2304, hash='UVKUpHIXEf%3lCIuR:ocD+IUR-aKpdwHM|e-', meta={'ENSD': '51', 'Size': '768x1152', 'seed': 1826265619, 'Model': 'AnythingXL-Beta4', 'steps': 35, 'hashes': {'model': '8421598e93'}, 'prompt': '1girl, twin turbo \\\\(umamusume\\\\), sunflower, solo, flower, skirt, outdoors, shirt, sky, school uniform, bow, cloud, white shirt, pleated skirt, red bow, bowtie, short sleeves, day, red bowtie, collared shirt, standing, bangs, blue sky, black skirt, yellow flower, blush, heterochromia, (bubble), waving, waving arm, arm behind back, closed mouth, smile,', 'Version': 'v1.8.0', 'sampler': 'Euler a', 'cfgScale': 5.5, 'resources': [{'hash': '8421598e93', 'name': 'AnythingXL-Beta4', 'type': 'model'}], 'Model hash': '8421598e93', 'Hires steps': '15', 'Hires upscale': '2', 'Hires upscaler': 'R-ESRGAN 4x+ Anime6B', 'negativePrompt': '(low quality, worst quality:1.4), (bad anatomy), (blurry:1.4, lips, teeth)', 'Denoising strength': '0.55', 'Downcast alphas_cumprod': 'True', 'Old prompt editing timelines': 'True'}), ModelVersionImages(url='https://image.civitai.com/xG1nkqKTMzGDvpLrqFT7WA/932c8e32-ee32-48ee-b071-956bcc73a7fe/width=450/8136223.jpeg', nsfw=None, width=1024, height=1536, hash='UTM@Dy~WOs-p~pxu%LtRElxuxun$KRM_i_R*', meta=None), ModelVersionImages(url='https://image.civitai.com/xG1nkqKTMzGDvpLrqFT7WA/11ea9055-9e96-49ea-99e4-a74b94a3b085/width=450/8135800.jpeg', nsfw=None, width=960, height=1536, hash='UKMjEy-:Q+xa~SRjKkflKSazp0WC_Noy^joz', meta={'seed': 4087110221, 'vaes': [], 'steps': 20, 'width': 960, 'height': 1536, 'models': [], 'prompt': '1girl, best quality, wand, grey hoodie, holding hair, virtual youtuber, horns, hands up, yellow bow, looking at viewer, yellow nails, hooded capelet, pixel art, fingernails, straight-on, fake horns, very long hair, orange nails, cow horns, black capelet, closed mouth, smile, hair intakes, hood, heart, pink nails, sleeves past wrists, short eyebrows, character name, long fingernails, long sleeves, hoodie, animal print, nail polish, hat, blue nails, thick eyebrows, black headwear, long hair, purple hair, blonde hair, print headwear, top hat, twintails, cow print, capelet, red eyes, transparent background, holding wand, solo, chin strap, eyes visible through hair, hood down, multicolored nails, ponytail, holding, dot nose, bow, hair tie,\\n\\nmasterpiece, newest, absurdres, safe', 'denoise': 1, 'sampler': 'DPM++ 2S a Karras', 'cfgScale': 7, 'modelIds': [], 'scheduler': 'karras', 'upscalers': [], 'versionIds': [], 'controlNets': [], 'negativePrompt': 'Black-and-white picture,(worst quality, low quality:1.4), negative_hand Negative Embedding,verybadimagenegative_v1.3, 2girls, nsfw:1.4,bad anatomy, bad hands, cropped, missing fingers,too many fingers, missing arms, long neck, Humpbacked, deformed, disfigured, poorly drawn face, distorted face, mutation, mutated, extra limb, ugly, poorly drawn hands, missing limb, floating limbs, disconnected limbs, malformed hands, out of focus, long body, missing toes, too many toes,monochrome, symbol, text, logo, door frame, window frame, mirror frame', 'additionalResources': []}), ModelVersionImages(url='https://image.civitai.com/xG1nkqKTMzGDvpLrqFT7WA/9c3e2e1a-c701-446f-b96e-de908f05a181/width=450/8135803.jpeg', nsfw=None, width=960, height=1536, hash='UUOMaG-:RN%2}@kBSdt7OGNGt6NGxujYofjF', meta={'seed': 916712473, 'vaes': [], 'steps': 20, 'width': 960, 'height': 1536, 'models': [], 'prompt': '1girl, mika\\\\(blue archive\\\\), blue archive, game cg, solo, double v, happy, (looking at viewer), one eye closed, upper body, spoken_heart, cinematic angle, depth of field, outdoors, sunset, masterpiece, best quality', 'denoise': 1, 'sampler': 'Euler a', 'cfgScale': 5, 'modelIds': [], 'scheduler': 'normal', 'upscalers': [], 'versionIds': [], 'controlNets': [], 'negativePrompt': 'lowres, bad anatomy,bad hands, text, error, missing fingers,extra digit, fewer digits, cropped, worstquality, low quality, normal quality, jpegartifacts, signature, watermark, username,blurry, bad feet', 'additionalResources': []}), ModelVersionImages(url='https://image.civitai.com/xG1nkqKTMzGDvpLrqFT7WA/15257c4e-3338-49cf-8492-6f40e58571f6/width=450/8135801.jpeg', nsfw=None, width=1024, height=1536, hash='ULP6s]x^8u-BLctkI^Rl56NFV@RRkZWDxtoJ', meta={'seed': 2263638477, 'vaes': [], 'steps': 20, 'width': 1024, 'height': 1536, 'models': [], 'prompt': '1girl, Best quality, genshin,Touhou Project,Honkai StarRail, mamimi(mamamimi),blade (galaxist),((fuzichoco,butterchalk,yoshinari you,mika pikazo)), holding animal, short sleeves, no pants, open mouth, upper body, looking at viewer, pink shirt, very long hair, twitter username, animal, shirt, heart, aqua background, hat, artist name, long hair, blush stickers, t-shirt, blonde hair, collarbone, :3, solo, aqua eyes, shirt tug, holding, yellow eyes, clothes writing, cat,\\n\\nmasterpiece, newest, absurdres, safe', 'denoise': 1, 'sampler': 'Euler a', 'cfgScale': 7, 'modelIds': [], 'scheduler': 'normal', 'upscalers': [], 'versionIds': [], 'controlNets': [], 'negativePrompt': '(worst quality, low quality:1.4), negative_hand Negative Embedding,verybadimagenegative_v1.3, 2girls, nsfw:1.4,bad anatomy, bad hands, cropped, missing fingers,too many fingers, missing arms, long neck, Humpbacked, deformed, disfigured, poorly drawn face, distorted face, mutation, mutated, extra limb, ugly, poorly drawn hands, missing limb, floating limbs, disconnected limbs, malformed hands, out of focus, long body, missing toes, too many toes,monochrome, symbol, text, logo, door frame, window frame, mirror frame', 'additionalResources': []})], downloadUrl='https://civitai.com/api/download/models/384264')"
      ]
     },
     "execution_count": 6,
     "metadata": {},
     "output_type": "execute_result"
    }
   ],
   "source": [
    "from civitai_downloader import APIClient\n",
    "\n",
    "api=APIClient(token)\n",
    "\n",
    "info=api.get_model_version(384264)\n",
    "info"
   ]
  }
 ],
 "metadata": {
  "kernelspec": {
   "display_name": "Python 3",
   "language": "python",
   "name": "python3"
  },
  "language_info": {
   "codemirror_mode": {
    "name": "ipython",
    "version": 3
   },
   "file_extension": ".py",
   "mimetype": "text/x-python",
   "name": "python",
   "nbconvert_exporter": "python",
   "pygments_lexer": "ipython3",
   "version": "3.12.7"
  }
 },
 "nbformat": 4,
 "nbformat_minor": 2
}
