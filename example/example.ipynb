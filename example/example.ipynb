{
 "cells": [
  {
   "cell_type": "code",
   "execution_count": 4,
   "metadata": {},
   "outputs": [
    {
     "name": "stdout",
     "output_type": "stream",
     "text": [
      "CreatorList(items=[Creator(username='JustMaier', modelCount=4, link='https://civitai.com/api/v1/models?username=JustMaier'), Creator(username='Maxfield', modelCount=5, link='https://civitai.com/api/v1/models?username=Maxfield'), Creator(username='bkdiehl482', modelCount=None, link='https://civitai.com/api/v1/models?username=bkdiehl482'), Creator(username='koenb', modelCount=None, link='https://civitai.com/api/v1/models?username=koenb'), Creator(username='PublicPrompts', modelCount=14, link='https://civitai.com/api/v1/models?username=PublicPrompts'), Creator(username='drone2222', modelCount=2, link='https://civitai.com/api/v1/models?username=drone2222'), Creator(username='jinxit4', modelCount=1, link='https://civitai.com/api/v1/models?username=jinxit4'), Creator(username='gbtm', modelCount=1, link='https://civitai.com/api/v1/models?username=gbtm'), Creator(username='CrasH', modelCount=37, link='https://civitai.com/api/v1/models?username=CrasH'), Creator(username='kichinto', modelCount=None, link='https://civitai.com/api/v1/models?username=kichinto'), Creator(username='moipokupki713', modelCount=None, link='https://civitai.com/api/v1/models?username=moipokupki713'), Creator(username='cootie', modelCount=2, link='https://civitai.com/api/v1/models?username=cootie'), Creator(username='bionagato', modelCount=60, link='https://civitai.com/api/v1/models?username=bionagato'), Creator(username='somebody', modelCount=1, link='https://civitai.com/api/v1/models?username=somebody'), Creator(username='gortath', modelCount=3, link='https://civitai.com/api/v1/models?username=gortath'), Creator(username='Nix0npolska', modelCount=2, link='https://civitai.com/api/v1/models?username=Nix0npolska'), Creator(username='DSlater', modelCount=56, link='https://civitai.com/api/v1/models?username=DSlater'), Creator(username='frankiehinrgmc', modelCount=None, link='https://civitai.com/api/v1/models?username=frankiehinrgmc'), Creator(username='harmonicdiffusion', modelCount=18, link='https://civitai.com/api/v1/models?username=harmonicdiffusion'), Creator(username='cjhoneycomb265', modelCount=None, link='https://civitai.com/api/v1/models?username=cjhoneycomb265')], metadata=Metadata(totalItems=52336, currentPage=1, pageSize=20, totalPages=2617, nextPage='https://civitai.com/api/v1/creators?limit=20&page=2', prevPage=None))\n"
     ]
    }
   ],
   "source": [
    "from civitai_downloader.api import CreatorsAPI\n",
    "from civitai_downloader.token.token import get_token\n",
    "\n",
    "token=get_token()\n",
    "\n",
    "api=CreatorsAPI(api_token=token)\n",
    "\n",
    "creators=api.list_creators()\n",
    "print(creators)"
   ]
  },
  {
   "cell_type": "code",
   "execution_count": 1,
   "metadata": {},
   "outputs": [
    {
     "data": {
      "text/plain": [
       "('https://civitai.com/api/download/models/215522',\n",
       " 'Anime Enhancer - Midrange - ClipSkip1 - [Concept] - Version 1.safetensors',\n",
       " 151110184,\n",
       " '.',\n",
       " 'e6e97f3ae1758b899f3be4e905975192')"
      ]
     },
     "execution_count": 1,
     "metadata": {},
     "output_type": "execute_result"
    },
    {
     "data": {
      "application/vnd.jupyter.widget-view+json": {
       "model_id": "c3133ea83aa14a5fb974ce74b65a5145",
       "version_major": 2,
       "version_minor": 0
      },
      "text/plain": [
       "VBox(children=(HTML(value='<b>Downloading</b> Anime Enhancer - Midrange - ClipSkip1 - [Concept] - Version 1.sa…"
      ]
     },
     "metadata": {},
     "output_type": "display_data"
    }
   ],
   "source": [
    "from civitai_downloader.download.download import civitai_download\n",
    "from civitai_downloader.token.token import get_token, prompt_for_civitai_token\n",
    "\n",
    "token=get_token()\n",
    "\n",
    "if token is None:\n",
    "    token = prompt_for_civitai_token()\n",
    "\n",
    "model_id=215522\n",
    "path=\".\"\n",
    "\n",
    "civitai_download(model_version_id=model_id, local_dir=path, token=token)"
   ]
  },
  {
   "cell_type": "code",
   "execution_count": 1,
   "metadata": {},
   "outputs": [
    {
     "data": {
      "text/plain": [
       "('https://civitai.com/api/download/models/6433',\n",
       " 'Loraeyes_V1.safetensors',\n",
       " 151074621,\n",
       " '.',\n",
       " 'e6e97f3ae1758b899f3be4e905975192')"
      ]
     },
     "execution_count": 1,
     "metadata": {},
     "output_type": "execute_result"
    },
    {
     "data": {
      "application/vnd.jupyter.widget-view+json": {
       "model_id": "466d17da92ba496daea9a377f97389bb",
       "version_major": 2,
       "version_minor": 0
      },
      "text/plain": [
       "VBox(children=(HTML(value='<b>Downloading</b> Loraeyes_V1.safetensors'), HBox(children=(IntProgress(value=0, b…"
      ]
     },
     "metadata": {},
     "output_type": "display_data"
    }
   ],
   "source": [
    "from civitai_downloader.download.download import advanced_download\n",
    "from civitai_downloader.token.token import get_token, prompt_for_civitai_token\n",
    "\n",
    "token=get_token()\n",
    "\n",
    "if token is None:\n",
    "    token = prompt_for_civitai_token()\n",
    "\n",
    "model_id=6433\n",
    "path=\".\"\n",
    "type='Model'\n",
    "format='SafeTensor'\n",
    "size='full'\n",
    "fp='fp16'\n",
    "\n",
    "advanced_download(\n",
    "    model_version_id=model_id,\n",
    "    local_dir=path,\n",
    "    type_filter=type,\n",
    "    format_filter=format,\n",
    "    size_filter=size,\n",
    "    fp_filter=fp,\n",
    "    token=token)"
   ]
  },
  {
   "cell_type": "code",
   "execution_count": null,
   "metadata": {},
   "outputs": [],
   "source": [
    "from civitai_downloader.download.download import url_download\n",
    "from civitai_downloader.token.token import get_token, prompt_for_civitai_token\n",
    "from urllib.parse import urljoin\n",
    "\n",
    "token=get_token()\n",
    "\n",
    "if token is None:\n",
    "    token = prompt_for_civitai_token()\n",
    "\n",
    "url=urljoin(\"https://civitai.com/api/download/models/\", str(model_id))\n",
    "\n",
    "url_download(url=url, local_dir=path, token=token)"
   ]
  },
  {
   "cell_type": "code",
   "execution_count": null,
   "metadata": {},
   "outputs": [],
   "source": [
    "from civitai_downloader.api.model import get_model_info_simple_from_api\n",
    "from civitai_downloader.token.token import get_token, prompt_for_civitai_token\n",
    "\n",
    "token=get_token()\n",
    "\n",
    "if token is None:\n",
    "    token = prompt_for_civitai_token()\n",
    "\n",
    "get_model_info_simple_from_api(9409, token)"
   ]
  },
  {
   "cell_type": "code",
   "execution_count": null,
   "metadata": {},
   "outputs": [],
   "source": [
    "from civitai_downloader.api.model import get_model_version_info_from_api\n",
    "from civitai_downloader.token.token import get_token, prompt_for_civitai_token\n",
    "\n",
    "token=get_token()\n",
    "\n",
    "if token is None:\n",
    "        token = prompt_for_civitai_token()\n",
    "\n",
    "info=get_model_version_info_from_api(384264, token)\n",
    "info.get('files', [])"
   ]
  },
  {
   "cell_type": "code",
   "execution_count": null,
   "metadata": {},
   "outputs": [],
   "source": [
    "from civitai_api import Civitai\n",
    "from civitai_api.models import BaseModel, ModelType\n",
    "from civitai_api.api.models import ModelSort, ModelPeriod\n",
    "from civitai_downloader.token.token import get_token\n",
    "\n",
    "token=get_token()\n",
    "\n",
    "civitai=Civitai(api_key=token)\n",
    "\n",
    "version_id=384264\n",
    "\n",
    "version=civitai.model_versions.get_model_version(version_id)\n",
    "print(version.files)\n",
    "\n",
    "print(version.files[0].name)\n",
    "print(version.files[0].id)\n",
    "print(version.files[0].type)"
   ]
  }
 ],
 "metadata": {
  "kernelspec": {
   "display_name": "base",
   "language": "python",
   "name": "python3"
  },
  "language_info": {
   "codemirror_mode": {
    "name": "ipython",
    "version": 3
   },
   "file_extension": ".py",
   "mimetype": "text/x-python",
   "name": "python",
   "nbconvert_exporter": "python",
   "pygments_lexer": "ipython3",
   "version": "3.10.14"
  }
 },
 "nbformat": 4,
 "nbformat_minor": 2
}
