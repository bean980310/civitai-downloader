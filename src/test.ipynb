{
 "cells": [
  {
   "cell_type": "code",
   "execution_count": 5,
   "metadata": {},
   "outputs": [
    {
     "name": "stdout",
     "output_type": "stream",
     "text": [
      "Downloading: Anime Enhancer - Midrange - ClipSkip1 - [Concept] - Version 1.safetensors [100.00%] - 276.83 MB/s\n",
      "Download completed. File saved as: Anime Enhancer - Midrange - ClipSkip1 - [Concept] - Version 1.safetensors\n",
      "Downloaded in 8s\n"
     ]
    }
   ],
   "source": [
    "from civitai_downloader.download.download import download_file\n",
    "from civitai_downloader.token.token import get_token, store_token, prompt_for_civitai_token\n",
    "\n",
    "token=get_token()\n",
    "\n",
    "if token is None:\n",
    "        token = prompt_for_civitai_token()\n",
    "        \n",
    "url=\"https://civitai.com/api/download/models/215522\"\n",
    "path=\".\"\n",
    "download_file(url, path, token)"
   ]
  }
 ],
 "metadata": {
  "kernelspec": {
   "display_name": "Python 3",
   "language": "python",
   "name": "python3"
  },
  "language_info": {
   "codemirror_mode": {
    "name": "ipython",
    "version": 3
   },
   "file_extension": ".py",
   "mimetype": "text/x-python",
   "name": "python",
   "nbconvert_exporter": "python",
   "pygments_lexer": "ipython3",
   "version": "3.12.7"
  }
 },
 "nbformat": 4,
 "nbformat_minor": 2
}
